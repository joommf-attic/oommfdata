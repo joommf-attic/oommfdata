{
 "cells": [
  {
   "cell_type": "code",
   "execution_count": 1,
   "metadata": {
    "collapsed": true
   },
   "outputs": [],
   "source": [
    "import numpy as np\n",
    "import ipywidgets\n",
    "import IPython.display"
   ]
  },
  {
   "cell_type": "code",
   "execution_count": 2,
   "metadata": {
    "collapsed": false
   },
   "outputs": [],
   "source": [
    "class Data:\n",
    "    def __init__(self):\n",
    "        self.index = np.linspace(0, 10, 11)\n",
    "\n",
    "    def signal(self, index):     \n",
    "        t = np.linspace(0, 10, 11)\n",
    "        return np.sin(2*np.pi*index*t)\n",
    "    \n",
    "    def signal2D(self, index):\n",
    "        t = np.linspace(-10, 10, 11)\n",
    "        X, Y = np.meshgrid(t, t)\n",
    "        return np.sin(2*np.pi*index*(X**2 + Y**2))"
   ]
  },
  {
   "cell_type": "code",
   "execution_count": 3,
   "metadata": {
    "collapsed": false
   },
   "outputs": [],
   "source": [
    "class DataAnalysis:\n",
    "    def __init__(self, data):\n",
    "        self.data = data\n",
    "        self.slider = ipywidgets.IntSlider(value=self.data.index[0],\n",
    "                                           min=self.data.index[0], \n",
    "                                           max=self.data.index[-1])\n",
    "    def _ipython_display_(self):\n",
    "        IPython.display.display(self.slider)"
   ]
  },
  {
   "cell_type": "code",
   "execution_count": 4,
   "metadata": {
    "collapsed": true
   },
   "outputs": [],
   "source": [
    "d = Data()\n",
    "da = DataAnalysis(d)\n",
    "da"
   ]
  },
  {
   "cell_type": "code",
   "execution_count": null,
   "metadata": {
    "collapsed": true
   },
   "outputs": [],
   "source": []
  }
 ],
 "metadata": {
  "kernelspec": {
   "display_name": "Python 3",
   "language": "python",
   "name": "python3"
  },
  "language_info": {
   "codemirror_mode": {
    "name": "ipython",
    "version": 3
   },
   "file_extension": ".py",
   "mimetype": "text/x-python",
   "name": "python",
   "nbconvert_exporter": "python",
   "pygments_lexer": "ipython3",
   "version": "3.5.2"
  }
 },
 "nbformat": 4,
 "nbformat_minor": 1
}
