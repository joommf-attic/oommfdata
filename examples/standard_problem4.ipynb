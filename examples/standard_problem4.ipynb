{
 "cells": [
  {
   "cell_type": "markdown",
   "metadata": {},
   "source": [
    "# Micromagnetic standard problem 4\n",
    "\n",
    "**Authors**: Marijan Beg, Ryan A. Pepper, and Hans Fangohr\n",
    "\n",
    "**Date**: 12 December 2016\n",
    "\n",
    "## Problem specification\n",
    "\n",
    "The sample is a thin film cuboid with dimensions:\n",
    "\n",
    "- length $l_{x} = 500 \\,\\text{nm}$,\n",
    "- width $l_{y} = 125 \\,\\text{nm}$, and\n",
    "- thickness $l_{z} = 3 \\,\\text{nm}$.\n",
    "\n",
    "The material parameters (similar to permalloy) are:\n",
    "\n",
    "- exchange energy constant $A = 1.3 \\times 10^{-11} \\,\\text{J/m}$,\n",
    "- magnetisation saturation $M_\\text{s} = 8 \\times 10^{5} \\,\\text{A/m}$.\n",
    "\n",
    "Magnetisation dynamics are governed by the Landau-Lifshitz-Gilbert equation\n",
    "\n",
    "$$\\frac{d\\mathbf{m}}{dt} = \\underbrace{-\\gamma_{0}(\\mathbf{m} \\times \\mathbf{H}_\\text{eff})}_\\text{precession} + \\underbrace{\\alpha\\left(\\mathbf{m} \\times \\frac{d\\mathbf{m}}{dt}\\right)}_\\text{damping}$$\n",
    "\n",
    "where $\\gamma_{0} = 2.211 \\times 10^{5} \\,\\text{m}\\,\\text{A}^{-1}\\,\\text{s}^{-1}$ and Gilbert damping $\\alpha=0.02$.\n",
    "\n",
    "In the standard problem 4, the system is first relaxed at zero external magnetic field and then, starting from the obtained equlibrium configuration, the magnetisation dynamics are simulated for two external magnetic fields $\\mathbf{B}_{1} = (-24.6, 4.3, 0.0) \\,\\text{mT}$ and $\\mathbf{B}_{2} = (-35.5, -6.3, 0.0) \\,\\text{mT}$.\n",
    "\n",
    "More detailed specification of Standard problem 4 can be found in Ref. 1.\n",
    "\n",
    "## Simulation\n",
    "\n",
    "In the first step, we import the required `discretisedfield` and `oommfc` modules."
   ]
  },
  {
   "cell_type": "code",
   "execution_count": 1,
   "metadata": {
    "collapsed": true
   },
   "outputs": [],
   "source": [
    "import discretisedfield as df\n",
    "import oommfc as oc"
   ]
  },
  {
   "cell_type": "markdown",
   "metadata": {},
   "source": [
    "Now, we can set all required geometry and material parameters."
   ]
  },
  {
   "cell_type": "code",
   "execution_count": 2,
   "metadata": {
    "collapsed": false
   },
   "outputs": [],
   "source": [
    "# Geometry\n",
    "lx = 500e-9  # x dimension of the sample(m)\n",
    "ly = 125e-9  # y dimension of the sample (m)\n",
    "lz = 3e-9  # sample thickness (m)\n",
    "\n",
    "# Material (permalloy) parameters\n",
    "Ms = 8e5  # saturation magnetisation (A/m)\n",
    "A = 1.3e-11  # exchange energy constant (J/m)\n",
    "\n",
    "# Dynamics (LLG equation) parameters\n",
    "gamma = 2.211e5  # gyromagnetic ratio (m/As)\n",
    "alpha = 0.02  # Gilbert damping"
   ]
  },
  {
   "cell_type": "markdown",
   "metadata": {},
   "source": [
    "## First stage\n",
    "\n",
    "In the first stage, we need to relax the system at zero external magnetic field.\n",
    "\n",
    "We choose `stdprob4` to be the name of the system. This name will be used to name all output files created by OOMMF."
   ]
  },
  {
   "cell_type": "code",
   "execution_count": 3,
   "metadata": {
    "collapsed": true
   },
   "outputs": [],
   "source": [
    "system = oc.System(name='stdprob4')"
   ]
  },
  {
   "cell_type": "markdown",
   "metadata": {},
   "source": [
    "In order to completely define the micromagnetic system, we need to provide:\n",
    "\n",
    "1. hamiltonian $\\mathcal{H}$\n",
    "2. dynamics $\\text{d}\\mathbf{m}/\\text{d}t$\n",
    "3. magnetisation $\\mathbf{m}$\n",
    "\n",
    "The mesh is created by providing two points `p1` and `p2` between which the mesh domain spans and the size of a discretisation cell. We choose the discretisation to be $(5, 5, 3) \\,\\text{nm}$."
   ]
  },
  {
   "cell_type": "code",
   "execution_count": 4,
   "metadata": {
    "collapsed": false
   },
   "outputs": [],
   "source": [
    "cell = (5e-9, 5e-9, 3e-9)  # mesh discretisation (m)\n",
    "\n",
    "mesh = oc.Mesh(p1=(0, 0, 0), p2=(lx, ly, lz), cell=cell)  # Create a mesh object."
   ]
  },
  {
   "cell_type": "markdown",
   "metadata": {},
   "source": [
    "We can visualise the mesh domain and a discretisation cell:"
   ]
  },
  {
   "cell_type": "code",
   "execution_count": 5,
   "metadata": {
    "collapsed": false
   },
   "outputs": [
    {
     "data": {
      "image/png": "[encoded data removed]",
      "text/plain": [
       "<matplotlib.figure.Figure at 0x7f44d884dd68>"
      ]
     },
     "metadata": {},
     "output_type": "display_data"
    }
   ],
   "source": [
    "%matplotlib inline\n",
    "mesh"
   ]
  },
  {
   "cell_type": "markdown",
   "metadata": {},
   "source": [
    "**Hamiltonian:** In the second step, we define the system's Hamiltonian. In this standard problem, the Hamiltonian contains only exchange and demagnetisation energy terms. Please note that in the first simulation stage, there is no applied external magnetic field. Therefore, we do not add Zeeman energy term to the Hamiltonian."
   ]
  },
  {
   "cell_type": "code",
   "execution_count": 6,
   "metadata": {
    "collapsed": true
   },
   "outputs": [],
   "source": [
    "system.hamiltonian = oc.Exchange(A) + oc.Demag()"
   ]
  },
  {
   "cell_type": "markdown",
   "metadata": {},
   "source": [
    "We can check what is the continuous model of system's Hamiltonian."
   ]
  },
  {
   "cell_type": "code",
   "execution_count": 7,
   "metadata": {
    "collapsed": false
   },
   "outputs": [
    {
     "data": {
      "text/latex": [
       "$\\mathcal{H}=A [(\\nabla m_{x})^{2} + (\\nabla m_{y})^{2} + (\\nabla m_{z})^{2}]-\\frac{1}{2}\\mu_{0}M_\\text{s}\\mathbf{m} \\cdot \\mathbf{H}_\\text{d}$"
      ],
      "text/plain": [
       "Exchange(A=1.3e-11) + Demag()"
      ]
     },
     "execution_count": 7,
     "metadata": {},
     "output_type": "execute_result"
    }
   ],
   "source": [
    "system.hamiltonian"
   ]
  },
  {
   "cell_type": "markdown",
   "metadata": {},
   "source": [
    "**Dynamics:** Similarly, the system's dynamics is defined by providing precession and damping terms (LLG equation)."
   ]
  },
  {
   "cell_type": "code",
   "execution_count": 8,
   "metadata": {
    "collapsed": false
   },
   "outputs": [
    {
     "data": {
      "text/latex": [
       "$\\frac{\\partial \\mathbf{m}}{\\partial t}=-\\gamma \\mathbf{m} \\times \\mathbf{H}_\\text{eff}+\\alpha \\mathbf{m} \\times\\frac{\\partial \\mathbf{m}}{\\partial t}$"
      ],
      "text/plain": [
       "Precession(gamma=221100.0) + Damping(alpha=0.02)"
      ]
     },
     "execution_count": 8,
     "metadata": {},
     "output_type": "execute_result"
    }
   ],
   "source": [
    "system.dynamics = oc.Precession(gamma) + oc.Damping(alpha)\n",
    "\n",
    "system.dynamics  # check the dynamics equation"
   ]
  },
  {
   "cell_type": "markdown",
   "metadata": {},
   "source": [
    "**Magnetisation:** Finally, we have to provide the magnetisation configuration that is going to be relaxed subsequently. We choose the uniform configuration in $(1, 0.25, 0.1)$ direction, and as norm (magnitude) we set the magnetisation saturation $M_\\text{s}$. In order to create the magnetisation configuration, we create a `Field` object from the `discretisedfield` module."
   ]
  },
  {
   "cell_type": "code",
   "execution_count": 9,
   "metadata": {
    "collapsed": false
   },
   "outputs": [],
   "source": [
    "system.m = df.Field(mesh, value=(1, 0.25, 0.1), norm=Ms)"
   ]
  },
  {
   "cell_type": "markdown",
   "metadata": {},
   "source": [
    "Now, the system is fully defined.\n",
    "\n",
    "**Energy minimisation:** The system (its magnetisation) is evolved using a particular driver. In the first stage, we need to relax the system - minimise its energy. Therefore, we create `MinDriver` object and drive the system using its `drive` method."
   ]
  },
  {
   "cell_type": "code",
   "execution_count": 10,
   "metadata": {
    "collapsed": false
   },
   "outputs": [
    {
     "name": "stdout",
     "output_type": "stream",
     "text": [
      "2017/2/16 12:17: Calling OOMMF (stdprob4/stdprob4.mif) ... [0.8s]\n"
     ]
    }
   ],
   "source": [
    "md = oc.MinDriver()  # create energy minimisation driver\n",
    "md.drive(system)  # minimise the system's energy"
   ]
  },
  {
   "cell_type": "markdown",
   "metadata": {},
   "source": [
    "The system is now relaxed. We can now obtain some data characteristic to the magnetisation field."
   ]
  },
  {
   "cell_type": "code",
   "execution_count": 11,
   "metadata": {
    "collapsed": false
   },
   "outputs": [
    {
     "name": "stdout",
     "output_type": "stream",
     "text": [
      "The average magnetisation is (773766.18071983266, 99856.830053973186, -0.00013716892659316703).\n",
      "The magnetisation at the mesh centre (2.5e-07, 6.25e-08, 1.5e-09) is [  7.99979274e+05  -5.75858666e+03   8.29862341e-04].\n"
     ]
    }
   ],
   "source": [
    "print('The average magnetisation is {}.'.format(system.m.average))\n",
    "\n",
    "print('The magnetisation at the mesh centre {} is {}.'.format(system.m.mesh.centre, system.m(system.m.mesh.centre)))"
   ]
  },
  {
   "cell_type": "markdown",
   "metadata": {},
   "source": [
    "We can also plot the magnetisation along the diagonal:\n",
    "\n",
    "$$\\mathbf{r} = \\mathbf{l}_{0} + d\\mathbf{l},$$\n",
    "\n",
    "with $\\mathbf{l} = (500, 125, 3)$ and $\\mathbf{l}_{0} = (0, 0, 0)$."
   ]
  },
  {
   "cell_type": "code",
   "execution_count": 12,
   "metadata": {
    "collapsed": false
   },
   "outputs": [
    {
     "data": {
      "image/png": "[encoded data removed]",
      "text/plain": [
       "<matplotlib.figure.Figure at 0x7f45046f8a58>"
      ]
     },
     "metadata": {},
     "output_type": "display_data"
    }
   ],
   "source": [
    "fig = system.m.plot_line_intersection(l=(500, 125, 3), l0=(0, 0, 0))"
   ]
  },
  {
   "cell_type": "markdown",
   "metadata": {},
   "source": [
    "## Second stage: field $\\mathbf{B}_{1}$"
   ]
  },
  {
   "cell_type": "markdown",
   "metadata": {},
   "source": [
    "In the second stage, we need to apply an external magnetic field $\\mathbf{B}_{1} = (-24.6, 4.3, 0.0) \\,\\text{mT}$ to the system. In other words, we have to add Zeeman energy term to the Hamiltonian."
   ]
  },
  {
   "cell_type": "code",
   "execution_count": 13,
   "metadata": {
    "collapsed": false
   },
   "outputs": [],
   "source": [
    "# Add Zeeman energy term to the Hamiltonian\n",
    "H1 = (-24.6e-3/oc.mu0, 4.3e-3/oc.mu0, 0.0)\n",
    "system.hamiltonian += oc.Zeeman(H1)"
   ]
  },
  {
   "cell_type": "markdown",
   "metadata": {},
   "source": [
    "If we now inspect the Hamiltonian, we see that an additional Zeeman term is added."
   ]
  },
  {
   "cell_type": "code",
   "execution_count": 14,
   "metadata": {
    "collapsed": false
   },
   "outputs": [
    {
     "data": {
      "text/latex": [
       "$\\mathcal{H}=A [(\\nabla m_{x})^{2} + (\\nabla m_{y})^{2} + (\\nabla m_{z})^{2}]-\\frac{1}{2}\\mu_{0}M_\\text{s}\\mathbf{m} \\cdot \\mathbf{H}_\\text{d}-\\mu_{0}M_\\text{s} \\mathbf{m} \\cdot \\mathbf{H}$"
      ],
      "text/plain": [
       "Exchange(A=1.3e-11) + Demag() + Zeeman(H=(-19576.05800030313, 3421.8312764757497, 0.0))"
      ]
     },
     "execution_count": 14,
     "metadata": {},
     "output_type": "execute_result"
    }
   ],
   "source": [
    "system.hamiltonian"
   ]
  },
  {
   "cell_type": "markdown",
   "metadata": {},
   "source": [
    "Finally, we can run the simulation using `TimeDriver` this time. We run the magnetisation evolution for $t=1 \\,\\text{ns}$, during which we save the system's state $n=200$ times."
   ]
  },
  {
   "cell_type": "code",
   "execution_count": 15,
   "metadata": {
    "collapsed": false
   },
   "outputs": [
    {
     "name": "stdout",
     "output_type": "stream",
     "text": [
      "2017/2/16 12:17: Calling OOMMF (stdprob4/stdprob4.mif) ... [4.3s]\n"
     ]
    }
   ],
   "source": [
    "t = 1e-9  # simulation time (s)\n",
    "n = 200  # number of data saving steps\n",
    "\n",
    "td = oc.TimeDriver()  # create time driver\n",
    "td.drive(system, t=t, n=n)  # drive the system"
   ]
  },
  {
   "cell_type": "markdown",
   "metadata": {},
   "source": [
    "### Interactive data analysis"
   ]
  },
  {
   "cell_type": "code",
   "execution_count": 18,
   "metadata": {
    "collapsed": true
   },
   "outputs": [],
   "source": [
    "import oommfdata as od"
   ]
  },
  {
   "cell_type": "markdown",
   "metadata": {},
   "source": [
    "OOMMF `*.odt` files are analysed using `DataAnalysisODT` class."
   ]
  },
  {
   "cell_type": "code",
   "execution_count": 19,
   "metadata": {
    "collapsed": true
   },
   "outputs": [],
   "source": [
    "od.DataAnalysisODT(name=\"stdprob4\")"
   ]
  },
  {
   "cell_type": "markdown",
   "metadata": {},
   "source": [
    "Magnetisation field can be analysed using `DataAnalysisOMF` class."
   ]
  },
  {
   "cell_type": "code",
   "execution_count": 20,
   "metadata": {
    "collapsed": true
   },
   "outputs": [],
   "source": [
    "od.DataAnalysisOMF(name=\"stdprob4\")"
   ]
  },
  {
   "cell_type": "markdown",
   "metadata": {},
   "source": [
    "## References\n",
    "\n",
    "[1] µMAG Site Directory: http://www.ctcms.nist.gov/~rdm/mumag.org.html\n",
    "    \n",
    "[2] Pandas: http://pandas.pydata.org/"
   ]
  }
 ],
 "metadata": {
  "kernelspec": {
   "display_name": "Python 3",
   "language": "python",
   "name": "python3"
  },
  "language_info": {
   "codemirror_mode": {
    "name": "ipython",
    "version": 3
   },
   "file_extension": ".py",
   "mimetype": "text/x-python",
   "name": "python",
   "nbconvert_exporter": "python",
   "pygments_lexer": "ipython3",
   "version": "3.5.2"
  },
  "widgets": {
   "state": {
    "104905b93f3e449696008971c8c9adc1": {
     "views": [
      {
       "cell_index": 34
      }
     ]
    },
    "2148dcddde8347c49adcb12ed99f30c7": {
     "views": [
      {
       "cell_index": 36
      }
     ]
    }
   },
   "version": "1.2.0"
  }
 },
 "nbformat": 4,
 "nbformat_minor": 0
}
